{
 "cells": [
  {
   "cell_type": "code",
   "execution_count": 1,
   "metadata": {},
   "outputs": [],
   "source": [
    "from fastai.vision import *"
   ]
  },
  {
   "cell_type": "code",
   "execution_count": 2,
   "metadata": {},
   "outputs": [],
   "source": [
    "path = untar_data(URLs.MNIST)\n",
    "data = (ImageItemList.from_folder(path/'training')\n",
    "                     .random_split_by_pct()\n",
    "                     .label_from_folder()\n",
    "                     .databunch())"
   ]
  },
  {
   "cell_type": "code",
   "execution_count": 3,
   "metadata": {},
   "outputs": [],
   "source": [
    "class Model(nn.Module):\n",
    "    def __init__(self, classifier, size=(28,28)):\n",
    "        super().__init__()\n",
    "        self.localization = nn.Sequential(\n",
    "            conv_layer(3, 32, stride=2),\n",
    "            conv_layer(32, 64, stride=2),\n",
    "            conv_layer(64, 128, stride=2),\n",
    "            AdaptiveConcatPool2d(),\n",
    "            Flatten(), *bn_drop_lin(256, 6)\n",
    "        )\n",
    "        self.size = size\n",
    "        self.sampling_grid = self._build_grid().cuda()\n",
    "        self.classifier = classifier\n",
    "    \n",
    "    def _build_grid(self):\n",
    "        H,W = self.size\n",
    "        x = torch.linspace(-1, 1, W)\n",
    "        y = torch.linspace(-1, 1, H)\n",
    "        x_t, y_t = [e.contiguous().view(-1) for e in torch.meshgrid(x,y)]\n",
    "        return torch.stack([x_t, y_t, torch.ones_like(x_t)])[None]\n",
    "    \n",
    "    def stn(self, x):\n",
    "        H,W = self.size\n",
    "        bs = x.size(0)\n",
    "        theta = self.localization(x).view(-1,2,3)\n",
    "        # build grid\n",
    "        sampling_grid = self.sampling_grid.repeat(bs,1,1)\n",
    "        grid = theta @ sampling_grid\n",
    "        grid = grid.view(-1, 2, W, H).permute(0,3,2,1)\n",
    "        x = F.grid_sample(x, grid)\n",
    "        return x\n",
    "        \n",
    "    def forward(self, x):\n",
    "        x = self.stn(x)\n",
    "        return self.classifier(x)"
   ]
  },
  {
   "cell_type": "code",
   "execution_count": 4,
   "metadata": {},
   "outputs": [],
   "source": [
    "from fastai.callbacks import *\n",
    "\n",
    "class CustomLoss(nn.Module):\n",
    "    def __init__(self, base_loss, scale_penalty=0.1):\n",
    "        super().__init__()\n",
    "        self.base_loss = base_loss\n",
    "        self.scale_penalty = scale_penalty\n",
    "        self.hook = hook_output(m.localization[-1], detach=False)\n",
    "        self.metric_names = ['cross_entropy', 'scale_loss']\n",
    "        \n",
    "    def forward(self, input, target):\n",
    "        losses = [self.base_loss(input,target)]\n",
    "        losses += [self.hook.stored[:,[0,4]].mean() * self.scale_penalty]\n",
    "        self.metrics = dict(zip(self.metric_names, losses))\n",
    "        return sum(losses)"
   ]
  },
  {
   "cell_type": "code",
   "execution_count": 5,
   "metadata": {},
   "outputs": [],
   "source": [
    "tmp = create_cnn(data, models.resnet18, metrics=accuracy)\n",
    "m = Model(tmp.model)\n",
    "custom_loss = CustomLoss(data.loss_func, scale_penalty=0.5)\n",
    "learn = Learner(data, m, loss_func=custom_loss, metrics=accuracy, path='tmp', callback_fns=LossMetrics)"
   ]
  },
  {
   "cell_type": "code",
   "execution_count": 6,
   "metadata": {},
   "outputs": [],
   "source": [
    "l = learn.model.localization[-1]\n",
    "w = l.weight\n",
    "b = l.bias\n",
    "identity = torch.cat([torch.eye(2), torch.zeros(2,1)], dim=1).view(-1)\n",
    "with torch.no_grad():\n",
    "    w.fill_(0.)\n",
    "    b.data = identity.cuda()"
   ]
  },
  {
   "cell_type": "code",
   "execution_count": 7,
   "metadata": {},
   "outputs": [
    {
     "data": {
      "text/html": [
       "Total time: 01:54 <p><table style='width:450px; margin-bottom:10px'>\n",
       "  <tr>\n",
       "    <th>epoch</th>\n",
       "    <th>train_loss</th>\n",
       "    <th>valid_loss</th>\n",
       "    <th>accuracy</th>\n",
       "    <th>cross_entropy</th>\n",
       "    <th>scale_loss</th>\n",
       "  </tr>\n",
       "  <tr>\n",
       "    <th>1</th>\n",
       "    <th>1.082756</th>\n",
       "    <th>0.990049</th>\n",
       "    <th>0.842167</th>\n",
       "    <th>0.492935</th>\n",
       "    <th>0.497113</th>\n",
       "  </tr>\n",
       "  <tr>\n",
       "    <th>2</th>\n",
       "    <th>0.728931</th>\n",
       "    <th>0.662740</th>\n",
       "    <th>0.937000</th>\n",
       "    <th>0.201514</th>\n",
       "    <th>0.461226</th>\n",
       "  </tr>\n",
       "  <tr>\n",
       "    <th>3</th>\n",
       "    <th>0.583927</th>\n",
       "    <th>0.506467</th>\n",
       "    <th>0.966583</th>\n",
       "    <th>0.106999</th>\n",
       "    <th>0.399469</th>\n",
       "  </tr>\n",
       "  <tr>\n",
       "    <th>4</th>\n",
       "    <th>0.480620</th>\n",
       "    <th>0.421259</th>\n",
       "    <th>0.977500</th>\n",
       "    <th>0.071083</th>\n",
       "    <th>0.350176</th>\n",
       "  </tr>\n",
       "  <tr>\n",
       "    <th>5</th>\n",
       "    <th>0.442509</th>\n",
       "    <th>0.409717</th>\n",
       "    <th>0.978000</th>\n",
       "    <th>0.070302</th>\n",
       "    <th>0.339415</th>\n",
       "  </tr>\n",
       "</table>\n"
      ],
      "text/plain": [
       "<IPython.core.display.HTML object>"
      ]
     },
     "metadata": {},
     "output_type": "display_data"
    }
   ],
   "source": [
    "learn.fit_one_cycle(5, 1e-3)"
   ]
  },
  {
   "cell_type": "code",
   "execution_count": 8,
   "metadata": {},
   "outputs": [],
   "source": [
    "# learn.save('force_scale')\n",
    "# learn.load('force_scale');"
   ]
  },
  {
   "cell_type": "code",
   "execution_count": 9,
   "metadata": {},
   "outputs": [
    {
     "data": {
      "image/png": "[encoded data removed]",
      "text/plain": [
       "<Figure size 432x288 with 1 Axes>"
      ]
     },
     "metadata": {
      "needs_background": "light"
     },
     "output_type": "display_data"
    }
   ],
   "source": [
    "learn.recorder.plot_losses()"
   ]
  },
  {
   "cell_type": "code",
   "execution_count": 10,
   "metadata": {},
   "outputs": [],
   "source": [
    "x,y = data.one_batch(DatasetType.Valid, denorm=False, cpu=False)\n",
    "\n",
    "with torch.no_grad():\n",
    "    W,H = 28,28\n",
    "    theta = learn.model.localization(x).view(-1,2,3)\n",
    "    sampling_grid = learn.model.sampling_grid.repeat(64,1,1)\n",
    "    grid = theta @ sampling_grid\n",
    "    grid = grid.view(-1, 2, W, H).permute(0,3,2,1)\n",
    "    x_s = grid[..., 0]\n",
    "    y_s = grid[..., 1]\n",
    "    xx = ((x_s + 1.) * W) * 0.5\n",
    "    yy = ((y_s + 1.) * H) * 0.5\n",
    "    x_ = F.grid_sample(x, grid)\n",
    "    y_ = learn.model.classifier(x_).argmax(1)"
   ]
  },
  {
   "cell_type": "code",
   "execution_count": 11,
   "metadata": {},
   "outputs": [
    {
     "data": {
      "text/plain": [
       "(tensor(0.6834, device='cuda:0'), tensor(0.6830, device='cuda:0'))"
      ]
     },
     "execution_count": 11,
     "metadata": {},
     "output_type": "execute_result"
    }
   ],
   "source": [
    "(theta[:,0,0]).mean(), (theta[:,1,1]).mean()"
   ]
  },
  {
   "cell_type": "code",
   "execution_count": 56,
   "metadata": {},
   "outputs": [
    {
     "name": "stdout",
     "output_type": "stream",
     "text": [
      "True: 9, Pred: 9\n"
     ]
    },
    {
     "data": {
      "image/png": "[encoded data removed]",
      "text/plain": [
       "<Figure size 936x360 with 2 Axes>"
      ]
     },
     "metadata": {
      "needs_background": "light"
     },
     "output_type": "display_data"
    }
   ],
   "source": [
    "idx = np.random.choice(64)\n",
    "print(f'True: {y[idx].item()}, Pred: {y_[idx].item()}')\n",
    "fig, (ax1,ax2) = plt.subplots(1, 2, figsize=(13,5))\n",
    "ax1.imshow(x[idx,0], 'gray')\n",
    "t = [0,27,-1,-28]\n",
    "points = torch.stack([xx[idx], yy[idx]], dim=-1).view(-1,2)\n",
    "x0,x1 = min(0, points[:,0].min()-1), max(W, points[:,0].max()+1)\n",
    "y1,y0 = min(0, points[:,1].min()-1), max(H, points[:,1].max()+1)\n",
    "ax1.set_xlim(x0,x1)\n",
    "ax1.set_ylim(y0,y1)\n",
    "ax1.add_patch(patches.Polygon(points[t], fill=False, edgecolor='green', lw=2))\n",
    "ax2.imshow(x_[idx,0], 'gray')\n",
    "for ax in (ax1,ax2): ax.set_axis_off()\n",
    "plt.tight_layout()"
   ]
  },
  {
   "cell_type": "code",
   "execution_count": null,
   "metadata": {},
   "outputs": [],
   "source": []
  },
  {
   "cell_type": "code",
   "execution_count": null,
   "metadata": {},
   "outputs": [],
   "source": []
  },
  {
   "cell_type": "code",
   "execution_count": null,
   "metadata": {},
   "outputs": [],
   "source": []
  },
  {
   "cell_type": "code",
   "execution_count": null,
   "metadata": {},
   "outputs": [],
   "source": []
  }
 ],
 "metadata": {
  "kernelspec": {
   "display_name": "Python 3",
   "language": "python",
   "name": "python3"
  },
  "language_info": {
   "codemirror_mode": {
    "name": "ipython",
    "version": 3
   },
   "file_extension": ".py",
   "mimetype": "text/x-python",
   "name": "python",
   "nbconvert_exporter": "python",
   "pygments_lexer": "ipython3",
   "version": "3.6.8"
  },
  "toc": {
   "base_numbering": 1,
   "nav_menu": {},
   "number_sections": true,
   "sideBar": true,
   "skip_h1_title": false,
   "title_cell": "Table of Contents",
   "title_sidebar": "Contents",
   "toc_cell": false,
   "toc_position": {},
   "toc_section_display": true,
   "toc_window_display": false
  }
 },
 "nbformat": 4,
 "nbformat_minor": 2
}
